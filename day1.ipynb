{
 "cells": [
  {
   "cell_type": "code",
   "execution_count": null,
   "id": "6068f314",
   "metadata": {},
   "outputs": [],
   "source": [
    "letters = \"aBcbA\"\n",
    "<<< # Reverse a String\n",
    "def aBcbA (letters):\n",
    "    return letters = letters[::-1]\n",
    "<<< # Accepts a string and calculate the number of uppercase and lower caase letters\n",
    "letters [::]\n",
    "'aBcbA'\n",
    "len (letters [::])\n",
    "letters [:]\n",
    "'aBcbA'\n",
    "len (letters [:])\n",
    "list (range (start, stop, step))\n",
    "\n",
    "<< #Checks wether a passed string is palindrome or not \n",
    "\n",
    "if letters  \n",
    "\n",
    "print(\"Yes\")\n",
    "else:\n",
    "    print(\"No\")\n",
    "    "
   ]
  }
 ],
 "metadata": {
  "kernelspec": {
   "display_name": "Python 3 (ipykernel)",
   "language": "python",
   "name": "python3"
  },
  "language_info": {
   "codemirror_mode": {
    "name": "ipython",
    "version": 3
   },
   "file_extension": ".py",
   "mimetype": "text/x-python",
   "name": "python",
   "nbconvert_exporter": "python",
   "pygments_lexer": "ipython3",
   "version": "3.9.13"
  }
 },
 "nbformat": 4,
 "nbformat_minor": 5
}
